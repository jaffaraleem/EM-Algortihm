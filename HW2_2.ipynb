{
  "cells": [
    {
      "cell_type": "markdown",
      "metadata": {
        "id": "view-in-github",
        "colab_type": "text"
      },
      "source": [
        "<a href=\"https://colab.research.google.com/github/jaffaraleem/EM-Algortihm/blob/main/HW2_2.ipynb\" target=\"_parent\"><img src=\"https://colab.research.google.com/assets/colab-badge.svg\" alt=\"Open In Colab\"/></a>"
      ]
    },
    {
      "cell_type": "code",
      "execution_count": null,
      "metadata": {
        "id": "f97jY21B02XI"
      },
      "outputs": [],
      "source": [
        "#Importing necessary modules and libraries\n",
        "import matplotlib.pyplot as plt\n",
        "from sklearn.cluster import KMeans\n",
        "from sklearn.metrics import confusion_matrix\n",
        "from scipy.stats import multivariate_normal\n",
        "import math\n",
        "import numpy as np"
      ]
    },
    {
      "cell_type": "code",
      "execution_count": null,
      "metadata": {
        "id": "2xqHKYhn1MqB"
      },
      "outputs": [],
      "source": [
        "#Reading the clusters.txt file\n",
        "data_file = open('/content/drive/MyDrive/Colab Notebooks/ee541/HW2/cluster.txt', \"r\")"
      ]
    },
    {
      "cell_type": "code",
      "source": [
        "from google.colab import drive\n",
        "drive.mount('/content/drive')"
      ],
      "metadata": {
        "colab": {
          "base_uri": "https://localhost:8080/"
        },
        "id": "3QCHTiLgLEum",
        "outputId": "51f406bf-30a7-445c-c6e5-ab01a33d9039"
      },
      "execution_count": null,
      "outputs": [
        {
          "output_type": "stream",
          "name": "stdout",
          "text": [
            "Mounted at /content/drive\n"
          ]
        }
      ]
    },
    {
      "cell_type": "code",
      "execution_count": null,
      "metadata": {
        "id": "Tevz-qfP3VH3"
      },
      "outputs": [],
      "source": [
        "#Splitting the data into lists of X,Y and Class\n",
        "class_data=[]\n",
        "x_data =[]\n",
        "y_data = []\n",
        "for i in data_file:\n",
        "    i=i.strip()\n",
        "    if(i[0]!=\"#\"):\n",
        "        d = i.split(\" \")\n",
        "        x_data.append(float(d[0]))\n",
        "        y_data.append(float(d[1]))\n",
        "        class_data.append(d[2])"
      ]
    },
    {
      "cell_type": "code",
      "execution_count": null,
      "metadata": {
        "id": "tYbI3r_y7RsO",
        "colab": {
          "base_uri": "https://localhost:8080/",
          "height": 265
        },
        "outputId": "dbb656d5-cf61-4476-b148-2f2e05f6c037"
      },
      "outputs": [
        {
          "output_type": "display_data",
          "data": {
            "text/plain": [
              "<Figure size 432x288 with 1 Axes>"
            ],
            "image/png": "[encoded data removed]"
          },
          "metadata": {
            "needs_background": "light"
          }
        }
      ],
      "source": [
        "#Creating an array for X and Y elements and creating a scatter plot for raw data\n",
        "X = np.array(x_data)\n",
        "Y = np.array(y_data)\n",
        "plt.scatter(X,Y)\n",
        "plt.show()"
      ]
    },
    {
      "cell_type": "code",
      "execution_count": null,
      "metadata": {
        "id": "Gd4nA6zf7ruV"
      },
      "outputs": [],
      "source": [
        "#Using the KMeans clustering model with 3 clusters\n",
        "km = KMeans(n_clusters = 3, random_state=42)"
      ]
    },
    {
      "cell_type": "code",
      "execution_count": null,
      "metadata": {
        "id": "ju1_MUHi9CR-"
      },
      "outputs": [],
      "source": [
        "#Converting X and Y arrays to a 2D array\n",
        "data = np.vstack((X, Y)).T"
      ]
    },
    {
      "cell_type": "code",
      "execution_count": null,
      "metadata": {
        "id": "om7rW6Gf8yFk",
        "colab": {
          "base_uri": "https://localhost:8080/"
        },
        "outputId": "c77b2844-672f-4363-8086-e662ea3b4766"
      },
      "outputs": [
        {
          "output_type": "execute_result",
          "data": {
            "text/plain": [
              "array([0, 0, 2, 0, 0, 0, 0, 0, 0, 0, 0, 2, 0, 0, 2, 0, 0, 0, 0, 0, 0, 0,\n",
              "       0, 0, 0, 0, 0, 1, 0, 0, 0, 0, 2, 1, 0, 0, 0, 0, 0, 2, 0, 0, 0, 1,\n",
              "       0, 0, 0, 2, 0, 0, 0, 1, 0, 0, 0, 1, 0, 1, 2, 0, 0, 0, 2, 2, 0, 0,\n",
              "       0, 0, 1, 0, 0, 0, 0, 0, 0, 0, 0, 0, 0, 2, 1, 1, 2, 0, 0, 0, 0, 2,\n",
              "       0, 0, 0, 0, 0, 0, 0, 0, 0, 1, 1, 0, 1, 0, 0, 0, 0, 2, 1, 0, 0, 0,\n",
              "       0, 0, 0, 0, 0, 0, 1, 0, 0, 0, 0, 0, 0, 2, 0, 1, 1, 2, 0, 0, 0, 0,\n",
              "       1, 0, 1, 2, 0, 0, 0, 1, 0, 2, 1, 0, 2, 0, 0, 1, 0, 0, 2, 0, 0, 0,\n",
              "       2, 0, 1, 0, 1, 1, 0, 0, 1, 1, 0, 0, 0, 0, 0, 0, 1, 0, 0, 0, 1, 0,\n",
              "       0, 0, 0, 0, 2, 0, 1, 0, 0, 0, 0, 0, 0, 0, 1, 1, 0, 0, 0, 0, 1, 0,\n",
              "       0, 1, 0, 1, 0, 0, 0, 0, 0, 0, 0, 1, 0, 0, 1, 2, 1, 0, 1, 0, 0, 1,\n",
              "       0, 0, 2, 2, 0, 1, 0, 0, 0, 0, 0, 0, 0, 0, 1, 1, 1, 0, 0, 0, 0, 0,\n",
              "       0, 0, 0, 0, 1, 0, 0, 0, 2, 0, 0, 0, 0, 0, 0, 0, 0, 1, 1, 0, 0, 1,\n",
              "       0, 0, 0, 0, 0, 1, 0, 0, 0, 1, 0, 1, 0, 0, 0, 0, 1, 0, 0, 0, 0, 1,\n",
              "       1, 1, 0, 0, 2, 2, 2, 2, 2, 2, 2, 2, 2, 2, 2, 2, 2, 2, 2, 2, 2, 2,\n",
              "       2, 2, 2, 2, 2, 2, 2, 2, 2, 2, 2, 2, 2, 2, 2, 2, 2, 2, 2, 2, 2, 2,\n",
              "       2, 2, 2, 2, 2, 2, 2, 2, 2, 2, 2, 2, 2, 2, 2, 2, 2, 2, 2, 2, 2, 2,\n",
              "       2, 2, 2, 2, 2, 2, 2, 2, 2, 2, 2, 2, 2, 2, 2, 2, 2, 2, 2, 2, 2, 2,\n",
              "       2, 2, 2, 2, 2, 2, 2, 2, 2, 2, 2, 2, 2, 2, 2, 2, 1, 1, 1, 1, 1, 1,\n",
              "       1, 1, 1, 1, 1, 1, 1, 1, 1, 1, 1, 1, 1, 1, 1, 1, 1, 1, 1, 1, 1, 1,\n",
              "       1, 1, 1, 1, 1, 1, 1, 1, 1, 1, 1, 1, 1, 1, 1, 1, 1, 1, 1, 1, 1, 1,\n",
              "       1, 1, 1, 1, 1, 1, 1, 1, 1, 1, 1, 1, 1, 1, 1, 1, 1, 1, 1, 1, 1, 1,\n",
              "       1, 1, 1, 1, 1, 1, 1, 1, 1, 1, 1, 1, 1, 1, 1, 1, 1, 1, 1, 1, 1, 1,\n",
              "       1, 1, 1, 1, 1, 1], dtype=int32)"
            ]
          },
          "metadata": {},
          "execution_count": 9
        }
      ],
      "source": [
        "#Fitting the raw data to the K Means Clustering model\n",
        "y_predicted = km.fit_predict(data)\n",
        "y_predicted"
      ]
    },
    {
      "cell_type": "code",
      "execution_count": null,
      "metadata": {
        "id": "ZVQz9hKOBE-q"
      },
      "outputs": [],
      "source": [
        "#Splitting the X,Y into different classes from the model\n",
        "classER_x = []\n",
        "classER_y = []\n",
        "classHD_x = []\n",
        "classHD_y = []\n",
        "classEL_x = []\n",
        "classEL_y = []\n",
        "for i in range(0,len(y_predicted)):\n",
        "  if(y_predicted[i]==0):\n",
        "    classHD_x.append(data[i][0])\n",
        "    classHD_y.append(data[i][1])\n",
        "  elif(y_predicted[i]==1):\n",
        "    classER_x.append(data[i][0])\n",
        "    classER_y.append(data[i][1])\n",
        "  else:\n",
        "    classEL_x.append(data[i][0])\n",
        "    classEL_y.append(data[i][1])   "
      ]
    },
    {
      "cell_type": "code",
      "execution_count": null,
      "metadata": {
        "id": "3iugb18Nosqx",
        "colab": {
          "base_uri": "https://localhost:8080/",
          "height": 283
        },
        "outputId": "be6f8a51-3b29-40db-d8d6-16a185941e82"
      },
      "outputs": [
        {
          "output_type": "execute_result",
          "data": {
            "text/plain": [
              "<matplotlib.legend.Legend at 0x7f72d82c7550>"
            ]
          },
          "metadata": {},
          "execution_count": 11
        },
        {
          "output_type": "display_data",
          "data": {
            "text/plain": [
              "<Figure size 432x288 with 1 Axes>"
            ],
            "image/png": "[encoded data removed]"
          },
          "metadata": {
            "needs_background": "light"
          }
        }
      ],
      "source": [
        "#Plotting the data with clusters\n",
        "plt.scatter(classHD_x,classHD_y, color = \"blue\", label=\"Head\")\n",
        "plt.scatter(classER_x,classER_y, color = \"green\", label = \"Ear_right\")\n",
        "plt.scatter(classEL_x,classEL_y, color = \"red\", label = \"Ear_left\")\n",
        "plt.legend(loc = \"lower right\")"
      ]
    },
    {
      "cell_type": "code",
      "execution_count": null,
      "metadata": {
        "id": "a_CXtUiSsalD"
      },
      "outputs": [],
      "source": [
        "#Converting the str labels of class to numbers Head -> 0, Ear_right -> 1, Ear_left -> 2,\n",
        "actual_classes = []\n",
        "for i in class_data:\n",
        "  if(i == \"Head\"):\n",
        "    actual_classes.append(0)\n",
        "  elif(i == \"Ear_right\"):\n",
        "    actual_classes.append(1)\n",
        "  else:\n",
        "    actual_classes.append(2)"
      ]
    },
    {
      "cell_type": "code",
      "execution_count": null,
      "metadata": {
        "id": "V4tinqM2tQm0",
        "colab": {
          "base_uri": "https://localhost:8080/"
        },
        "outputId": "1cff15df-affc-43ed-b6c8-0a829b1f8372"
      },
      "outputs": [
        {
          "output_type": "execute_result",
          "data": {
            "text/plain": [
              "array([[211,  54,  25],\n",
              "       [  0, 100,   0],\n",
              "       [  0,   0, 100]])"
            ]
          },
          "metadata": {},
          "execution_count": 13
        }
      ],
      "source": [
        "#Creating the confusion matrix\n",
        "results = confusion_matrix(actual_classes, y_predicted)\n",
        "results"
      ]
    },
    {
      "cell_type": "code",
      "source": [
        "# 2b Implementing Expectation Maximisation Algorithm"
      ],
      "metadata": {
        "id": "nHN0RBZTKMH-"
      },
      "execution_count": null,
      "outputs": []
    },
    {
      "cell_type": "code",
      "source": [
        "#Creating data array for the EM Algorithm\n",
        "classX=[]\n",
        "classY = []\n",
        "for i in classHD_x:\n",
        "  classX.append(i)\n",
        "for i in classER_x:\n",
        "  classX.append(i)\n",
        "for i in classEL_x:\n",
        "  classX.append(i)\n",
        "\n",
        "for i in classHD_y:\n",
        "  classY.append(i)\n",
        "for i in classER_y:\n",
        "  classY.append(i)\n",
        "for i in classEL_y:\n",
        "  classY.append(i)\n",
        "\n",
        "cluster_data = np.vstack((classX,classY)).T"
      ],
      "metadata": {
        "id": "sWbCCEQm85Lj"
      },
      "execution_count": null,
      "outputs": []
    },
    {
      "cell_type": "code",
      "source": [
        "def plot_graph(muHD,muER,muEL,gm,cluster_data):\n",
        "  classes_EM=[]\n",
        "  Head_Class_x = []\n",
        "  Head_Class_y = []\n",
        "  ER_Class_x = []\n",
        "  ER_Class_y = []\n",
        "  EL_Class_x = []\n",
        "  EL_Class_y = []\n",
        "  HD= 0\n",
        "  ER = 0\n",
        "  EL =0\n",
        "  for i,j in zip(gm, cluster_data):\n",
        "    k = i.index(max(i))\n",
        "    if(k == 0):\n",
        "      HD +=1\n",
        "      Head_Class_x.append(j[0])\n",
        "      Head_Class_y.append(j[1])\n",
        "\n",
        "    elif(k == 1):\n",
        "      ER +=1\n",
        "      ER_Class_x.append(j[0])\n",
        "      ER_Class_y.append(j[1])\n",
        "\n",
        "    else:\n",
        "      EL +=1\n",
        "      EL_Class_x.append(j[0])\n",
        "      EL_Class_y.append(j[1])\n",
        "\n",
        "    classes_EM.append(k)\n",
        "\n",
        "  plt.scatter(Head_Class_x,Head_Class_y, color = \"blue\", label=\"Head\")\n",
        "  plt.scatter(ER_Class_x,ER_Class_y, color = \"green\", label = \"Ear_right\")\n",
        "  plt.scatter(EL_Class_x,EL_Class_y, color = \"red\", label = \"Ear_left\")\n",
        "  plt.scatter([muHD[0]],[muHD[1]], color = \"yellow\" )\n",
        "  plt.scatter([muER[0]],[muER[1]], color = \"black\" )\n",
        "  plt.scatter([muEL[0]],[muEL[1]], color = \"purple\" )\n",
        "  plt.legend(loc = \"lower right\")\n",
        "  plt.show()\n",
        "\n",
        "  return [HD, ER, EL]"
      ],
      "metadata": {
        "id": "iD9hoPFwJ8zA"
      },
      "execution_count": null,
      "outputs": []
    },
    {
      "cell_type": "code",
      "source": [
        "# To calculate sum of each gamma\n",
        "def prob_sums_of_each_cluster(arr):\n",
        "  sHD = 0\n",
        "  sER = 0\n",
        "  sEL = 0\n",
        "  for i in gm:\n",
        "    sHD += i[0]\n",
        "    sER += i[1]\n",
        "    sEL += i[2] \n",
        "  return sHD, sER, sEL"
      ],
      "metadata": {
        "id": "a2ykLtosfX6c"
      },
      "execution_count": null,
      "outputs": []
    },
    {
      "cell_type": "code",
      "source": [
        "# Implementation of M Step\n",
        "def MStep(gm, arr):\n",
        "  sxHD = 0\n",
        "  sxER = 0\n",
        "  sxEL = 0\n",
        "  syHD = 0\n",
        "  syER = 0\n",
        "  syEL = 0\n",
        "  sigmaHD_num = np.array([[0,0],[0,0]],dtype=float)\n",
        "  sigmaER_num = np.array([[0,0],[0,0]],dtype=float)\n",
        "  sigmaEL_num = np.array([[0,0],[0,0]],dtype=float)\n",
        "\n",
        "  sum_HD_prob, sum_ER_prob, sum_EL_prob = prob_sums_of_each_cluster(gm) \n",
        "  \n",
        "  for i in range(len(arr)):\n",
        "    sxHD += gm[i][0]*arr[i][0]\n",
        "    syHD += gm[i][0]*arr[i][1]\n",
        "\n",
        "    sxER += gm[i][1]*arr[i][0]\n",
        "    syER += gm[i][1]*arr[i][1]\n",
        "\n",
        "    sxEL += gm[i][2]*arr[i][0]\n",
        "    syEL += gm[i][2]*arr[i][1]\n",
        "\n",
        "  muHDx = sxHD/sum_HD_prob\n",
        "  muHDy = syHD/sum_HD_prob\n",
        "  muHD = np.array([[muHDx],[muHDy]])\n",
        "\n",
        "  muERx = sxER/sum_ER_prob\n",
        "  muERy = syER/sum_ER_prob\n",
        "  muER = np.array([[muERx],[muERy]])\n",
        "\n",
        "  muELx = sxEL/sum_EL_prob\n",
        "  muELy = syEL/sum_EL_prob\n",
        "  muEL = np.array([[muELx],[muELy]])\n",
        "\n",
        "  for i in range(len(arr)):\n",
        "    e = arr[i].reshape(2,1)\n",
        "    \n",
        "    diffHD = (e-muHD)\n",
        "    prodHD = np.dot(diffHD,diffHD.T)\n",
        "    sigmaHD_num += gm[i][0]*prodHD\n",
        "\n",
        "    diffER = (e-muER)\n",
        "    prodER = np.dot(diffER,diffER.T)\n",
        "    sigmaER_num += gm[i][1]*prodER\n",
        "\n",
        "    diffEL = (e-muEL)\n",
        "    prodEL = np.dot(diffEL,diffEL.T)\n",
        "    sigmaEL_num += gm[i][2]*prodEL\n",
        "\n",
        "  sigmaHD = sigmaHD_num/sum_HD_prob\n",
        "  sigmaER = sigmaER_num/sum_ER_prob\n",
        "  sigmaEL = sigmaEL_num/sum_EL_prob\n",
        "\n",
        "  w_0 = sum_HD_prob/490\n",
        "  w_1 = sum_ER_prob/490\n",
        "  w_2 = sum_EL_prob/490\n",
        "\n",
        "  return muHD,muER,muEL, w_0,w_1,w_2, sigmaHD, sigmaER, sigmaEL"
      ],
      "metadata": {
        "id": "VVOfSoTvF3eS"
      },
      "execution_count": null,
      "outputs": []
    },
    {
      "cell_type": "code",
      "source": [
        "#Implementation of E Step\n",
        "def EStep(muHD,muER,muEL,w_0,w_1,w_2,sigmaHD,sigmaER,sigmaEL,data):\n",
        "  gm = []\n",
        "  for i in data:\n",
        "    pdf_HD = w_0 * multivariate_normal.pdf(i,mean=muHD.reshape(2,),cov = sigmaHD)\n",
        "    pdf_ER = w_1 * multivariate_normal.pdf(i,mean=muER.reshape(2,),cov = sigmaER)\n",
        "    pdf_EL = w_2 * multivariate_normal.pdf(i,mean=muEL.reshape(2,),cov = sigmaEL)\n",
        "    gm_HD = pdf_HD/(pdf_HD+pdf_EL+pdf_ER)\n",
        "    gm_ER = pdf_ER/(pdf_HD+pdf_EL+pdf_ER)\n",
        "    gm_EL = pdf_EL/(pdf_HD+pdf_EL+pdf_ER)\n",
        "    gm.append([gm_HD, gm_ER, gm_EL])\n",
        "  return gm"
      ],
      "metadata": {
        "id": "gfHf0TXi1O1o"
      },
      "execution_count": null,
      "outputs": []
    },
    {
      "cell_type": "code",
      "source": [
        "#Initializing Gamma vectors with one hot encoding\n",
        "gm = []\n",
        "for i in range(0,211):\n",
        "  gm.append([1,0,0])\n",
        "for i in range(0,154):\n",
        "  gm.append([0,1,0])\n",
        "for i in range(0,125):\n",
        "  gm.append([0,0,1])"
      ],
      "metadata": {
        "id": "R1EGyUd8IaNp"
      },
      "execution_count": null,
      "outputs": []
    },
    {
      "cell_type": "code",
      "source": [
        "muHD,muER,muEL, w_0,w_1,w_2, sigmaHD, sigmaER, sigmaEL = MStep(gm,cluster_data)\n",
        "print(muHD,muER,muEL,sigmaHD,  sigmaER, sigmaEL )"
      ],
      "metadata": {
        "colab": {
          "base_uri": "https://localhost:8080/"
        },
        "id": "lMEVrAQaK-6s",
        "outputId": "d7e71e56-1a8d-47eb-90de-c5ad08385f49"
      },
      "execution_count": null,
      "outputs": [
        {
          "output_type": "stream",
          "name": "stdout",
          "text": [
            "[[0.49244835]\n",
            " [0.44985859]] [[0.71042841]\n",
            " [0.6952667 ]] [[0.27459845]\n",
            " [0.73311733]] [[ 0.01173546 -0.0016364 ]\n",
            " [-0.0016364   0.00908443]] [[0.00606442 0.00179403]\n",
            " [0.00179403 0.0068253 ]] [[ 0.00543206 -0.00141728]\n",
            " [-0.00141728  0.00298001]]\n"
          ]
        }
      ]
    },
    {
      "cell_type": "code",
      "source": [
        "# Running EM Algorithm\n",
        "muHD_x_prev = 0\n",
        "muHD_y_prev = 0\n",
        "muER_x_prev = 0\n",
        "muER_y_prev = 0\n",
        "muEL_x_prev = 0\n",
        "muEL_y_prev = 0\n",
        "diff_HD_X = 1\n",
        "diff_HD_Y = 1\n",
        "diff_ER_X = 1\n",
        "diff_ER_Y = 1\n",
        "diff_EL_X = 1\n",
        "diff_EL_Y = 1\n",
        "lim = 10**(-6)\n",
        "\n",
        "i=0\n",
        "\n",
        "while((diff_HD_X >= lim) and (diff_HD_Y >= lim) and (diff_ER_X >= lim) and (diff_ER_Y >= lim) and (diff_EL_X >= lim) and (diff_EL_Y >= lim)):\n",
        "  i+=1\n",
        "  muHD,muER,muEL, w_0,w_1,w_2, sigmaHD, sigmaER, sigmaEL = MStep(gm,cluster_data)\n",
        "  li = plot_graph(muHD,muER,muEL,gm,cluster_data)\n",
        "  gm = EStep(muHD,muER,muEL, w_0,w_1,w_2, sigmaHD, sigmaER, sigmaEL, cluster_data)\n",
        "  print('After {0} Iteration (Head , Ear_Right, Ear_Left) = ({1} ,{2}, {3})'.format(i, li[0], li[1], li[2]))\n",
        "\n",
        "\n",
        "  diff_HD_X = abs(muHD_x_prev - muHD[0])\n",
        "  muHD_x_prev = muHD[0]\n",
        "\n",
        "  diff_HD_Y = abs(muHD_y_prev - muHD[1])\n",
        "  muHD_y_prev = muHD[1]\n",
        "\n",
        "  diff_ER_X = abs(muER_x_prev - muER[0])\n",
        "  muER_x_prev = muER[0]\n",
        "\n",
        "  diff_ER_Y = abs(muER_y_prev - muER[1])\n",
        "  muER_y_prev = muER[1]\n",
        "\n",
        "  diff_EL_X = abs(muEL_x_prev - muEL[0])\n",
        "  muEL_x_prev = muEL[0]\n",
        "\n",
        "  diff_EL_Y = abs(muHD_y_prev - muEL[1])\n",
        "  muEL_y_prev = muEL[1]\n",
        "  "
      ],
      "metadata": {
        "id": "rcbZ0mtm8vQZ"
      },
      "execution_count": null,
      "outputs": []
    },
    {
      "cell_type": "code",
      "source": [
        "for i,j in zip(gm, cluster_data):\n",
        "  k = i.index(max(i))\n",
        "  if(k == 0):\n",
        "    print(j[0] ,j[1], \"Head\")\n",
        "  elif(k == 1):\n",
        "    print(j[0] ,j[1], \"Ear_Right\")\n",
        "  else:\n",
        "    print(j[0], j[1], \"Ear_Left\")"
      ],
      "metadata": {
        "id": "cz9RjLNOiBiC"
      },
      "execution_count": null,
      "outputs": []
    }
  ],
  "metadata": {
    "colab": {
      "collapsed_sections": [],
      "provenance": [],
      "include_colab_link": true
    },
    "kernelspec": {
      "display_name": "Python 3",
      "name": "python3"
    },
    "language_info": {
      "name": "python"
    }
  },
  "nbformat": 4,
  "nbformat_minor": 0
}